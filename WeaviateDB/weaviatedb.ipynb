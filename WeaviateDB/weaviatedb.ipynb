{
 "cells": [
  {
   "cell_type": "markdown",
   "id": "63fd3ebf",
   "metadata": {},
   "source": [
    "This example illustrates how to use Weaviate as a vector database to store and query text embeddings."
   ]
  },
  {
   "cell_type": "code",
   "execution_count": null,
   "id": "8b552113",
   "metadata": {},
   "outputs": [],
   "source": []
  }
 ],
 "metadata": {
  "kernelspec": {
   "display_name": "vectorDB",
   "language": "python",
   "name": "python3"
  },
  "language_info": {
   "codemirror_mode": {
    "name": "ipython",
    "version": 3
   },
   "file_extension": ".py",
   "mimetype": "text/x-python",
   "name": "python",
   "nbconvert_exporter": "python",
   "pygments_lexer": "ipython3",
   "version": "3.10.18"
  }
 },
 "nbformat": 4,
 "nbformat_minor": 5
}
